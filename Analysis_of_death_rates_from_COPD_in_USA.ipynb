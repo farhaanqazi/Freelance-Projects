{
  "nbformat": 4,
  "nbformat_minor": 0,
  "metadata": {
    "colab": {
      "provenance": [],
      "authorship_tag": "ABX9TyMv4pxrZjbL2TsfOPN1/HIN",
      "include_colab_link": true
    },
    "kernelspec": {
      "name": "python3",
      "display_name": "Python 3"
    },
    "language_info": {
      "name": "python"
    }
  },
  "cells": [
    {
      "cell_type": "markdown",
      "metadata": {
        "id": "view-in-github",
        "colab_type": "text"
      },
      "source": [
        "<a href=\"https://colab.research.google.com/github/farhaanqazi/Freelance-Projects/blob/main/Analysis_of_death_rates_from_COPD_in_USA.ipynb\" target=\"_parent\"><img src=\"https://colab.research.google.com/assets/colab-badge.svg\" alt=\"Open In Colab\"/></a>"
      ]
    },
    {
      "cell_type": "markdown",
      "source": [
        "# **Analysis of death rates from COPD in USA**"
      ],
      "metadata": {
        "id": "gcnicQM-vjZ8"
      }
    },
    {
      "cell_type": "markdown",
      "source": [
        "The following Python code has been written to calculate death rates for chronic obstructive pulmonary disease (COPD) in the United States and Uganda for 2019.\n",
        "\n",
        "Initially, I compiled the age-specific death rates for both countries from the provided table and put them into a dictionary to be used at a later stage. To compute the crude death rates, I simply summed up the death rates across all age groups for both the countries.\n",
        "\n",
        "For the age-standardised death rates, I obtained the age distributions in the populations from UN World Population Prospects, table named - 'total population (both sexes combined) by five-year age group (0-4, 5-9, 10-14, ..., 95-99, 100+) where data was presented in thousands. The age-standardised death rates were calculated by multiplying the death rates for each age group by the corresponding population counts and then normalising these values by the total population. This approach allowed for a fairer comparison of death rates between the two countries.\n",
        "\n",
        "The provided Python script offers a structured and reproducible method for computing death rates, facilitating informed decision-making and further analysis."
      ],
      "metadata": {
        "id": "q8MsRbiL5mOw"
      }
    },
    {
      "cell_type": "code",
      "execution_count": null,
      "metadata": {
        "colab": {
          "base_uri": "https://localhost:8080/"
        },
        "id": "GyP5eB9XjCrW",
        "outputId": "12de4855-4473-4044-f082-d01cacb78159"
      },
      "outputs": [
        {
          "output_type": "stream",
          "name": "stdout",
          "text": [
            "Crude Death Rate (USA, 2019): 2164.7\n",
            "Crude Death Rate (Uganda, 2019): 2058.6\n",
            "Age-Standardised Death Rate (USA, 2019): 56.9\n",
            "Age-Standardised Death Rate (Uganda, 2019): 5.8\n",
            "Essentially, the obtained figures depict the number of deaths per 100,000 people in the respective countries.\n"
          ]
        }
      ],
      "source": [
        "#From the given table\n",
        "#Age-specific death rates for COPD in the United States for the year 2019\n",
        "death_rates_usa = {\n",
        "    '0-4': 0.04,\n",
        "    '5-9': 0.02,\n",
        "    '10-14': 0.02,\n",
        "    '15-19': 0.02,\n",
        "    '20-24': 0.06,\n",
        "    '25-29': 0.11,\n",
        "    '30-34': 0.29,\n",
        "    '35-39': 0.56,\n",
        "    '40-44': 1.42,\n",
        "    '45-49': 4.00,\n",
        "    '50-54': 14.13,\n",
        "    '55-59': 37.22,\n",
        "    '60-64': 66.48,\n",
        "    '65-69': 108.66,\n",
        "    '70-74': 213.10,\n",
        "    '75-79': 333.06,\n",
        "    '80-84': 491.10,\n",
        "    '85+': 894.45\n",
        "}\n",
        "#Age-specific death rates for COPD in Uganda for the year 2019\n",
        "death_rates_uganda = {\n",
        "    '0-4': 0.40,\n",
        "    '5-9': 0.17,\n",
        "    '10-14': 0.07,\n",
        "    '15-19': 0.23,\n",
        "    '20-24': 0.38,\n",
        "    '25-29': 0.40,\n",
        "    '30-34': 0.75,\n",
        "    '35-39': 1.11,\n",
        "    '40-44': 2.04,\n",
        "    '45-49': 5.51,\n",
        "    '50-54': 13.26,\n",
        "    '55-59': 33.25,\n",
        "    '60-64': 69.62,\n",
        "    '65-69': 120.78,\n",
        "    '70-74': 229.88,\n",
        "    '75-79': 341.06,\n",
        "    '80-84': 529.31,\n",
        "    '85+': 710.40\n",
        "}\n",
        "\n",
        "# Calculate the crude death rate\n",
        "# \".values()\" method retrieves the values of death rates for each age group given above\n",
        "crude_death_rate_usa = sum(death_rates_usa.values())\n",
        "crude_death_rate_uganda = sum(death_rates_uganda.values())\n",
        "\n",
        "# Print the crude death rates\n",
        "print(\"Crude Death Rate (USA, 2019): {:.1f}\".format(crude_death_rate_usa))\n",
        "print(\"Crude Death Rate (Uganda, 2019): {:.1f}\".format(crude_death_rate_uganda))\n",
        "\n",
        "# Population by age group in the United States\n",
        "population_distribution_usa = {\n",
        "    '0-4': 19849000,\n",
        "    '5-9': 20697000,\n",
        "    '10-14': 22092000,\n",
        "    '15-19': 21895000,\n",
        "    '20-24': 21872000,\n",
        "    '25-29': 23407000,\n",
        "    '30-34': 22842000,\n",
        "    '35-39': 22297000,\n",
        "    '40-44': 20695000,\n",
        "    '45-49': 21244000,\n",
        "    '50-54': 22346000,\n",
        "    '55-59': 22348000,\n",
        "    '60-64': 20941000,\n",
        "    '65-69': 17501000,\n",
        "    '70-74': 13689000,\n",
        "    '75-79': 9273000,\n",
        "    '80-84': 6119000,\n",
        "    '85+': 6135000\n",
        "}\n",
        "\n",
        "#Population by age groups in Uganda\n",
        "population_distribution_uganda = {\n",
        "    '0-4': 7329000,\n",
        "    '5-9': 6614000,\n",
        "    '10-14': 5899000,\n",
        "    '15-19': 5151000,\n",
        "    '20-24': 4348000,\n",
        "    '25-29': 3500000,\n",
        "    '30-34': 2619000,\n",
        "    '35-39': 1903000,\n",
        "    '40-44': 1504000,\n",
        "    '45-49': 1235000,\n",
        "    '50-54': 953000,\n",
        "    '55-59': 687000,\n",
        "    '60-64': 500000,\n",
        "    '65-69': 353000,\n",
        "    '70-74': 197000,\n",
        "    '75-79': 93000,\n",
        "    '80-84': 44000,\n",
        "    '85+': 20000\n",
        "}\n",
        "\n",
        "# Calculate the age-standardized death rate\n",
        "age_standardised_death_rate_usa = sum(death_rates_usa[age] * population_distribution_usa[age] / sum(population_distribution_usa.values()) for age in death_rates_usa.keys())\n",
        "age_standardised_death_rate_uganda = sum(death_rates_uganda[age] * population_distribution_uganda[age] / sum(population_distribution_uganda.values()) for age in death_rates_uganda.keys())\n",
        "\n",
        "# Print the age-standardized death rates\n",
        "print(\"Age-Standardised Death Rate (USA, 2019): {:.1f}\".format(age_standardised_death_rate_usa))\n",
        "print(\"Age-Standardised Death Rate (Uganda, 2019): {:.1f}\".format(age_standardised_death_rate_uganda))\n",
        "print('Essentially, the obtained figures depict the number of deaths per 100,000 people in the respective countries.')"
      ]
    }
  ]
}